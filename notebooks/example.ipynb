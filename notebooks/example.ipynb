{
 "cells": [
  {
   "cell_type": "code",
   "execution_count": 1,
   "metadata": {},
   "outputs": [],
   "source": [
    "import asyncio\n",
    "from os import path\n",
    "import sys\n",
    "\n",
    "import pydash as _\n",
    "sys.path.insert(0, path.abspath(\"..\"))"
   ]
  },
  {
   "cell_type": "code",
   "execution_count": 2,
   "metadata": {},
   "outputs": [],
   "source": [
    "from microdrop import Microdrop\n",
    "microdrop = Microdrop()\n"
   ]
  },
  {
   "cell_type": "code",
   "execution_count": 3,
   "metadata": {},
   "outputs": [
    {
     "name": "stdout",
     "output_type": "stream",
     "text": [
      "['right', 'right', 'right', 'right', 'up']\n"
     ]
    }
   ],
   "source": [
    "async def get_first_route(microdrop):\n",
    "    result = await microdrop.get_state('routes-model', 'routes')\n",
    "    if (len(result) > 0):\n",
    "        print(result[0]['path'])\n",
    "    else:\n",
    "        print('no routes')\n",
    "\n",
    "microdrop.execute(get_first_route)"
   ]
  },
  {
   "cell_type": "code",
   "execution_count": 5,
   "metadata": {},
   "outputs": [
    {
     "name": "stdout",
     "output_type": "stream",
     "text": [
      "received notification\n",
      "['electrode076', 'electrode078', 'electrode001']\n"
     ]
    }
   ],
   "source": [
    "async def trigger_something(microdrop):\n",
    "    result = await microdrop.trigger_plugin(\n",
    "        'electrodes-model', 'toggle-electrode',\n",
    "        {'electrodeId': 'electrode001', 'state': True})\n",
    "    print(result['response'])\n",
    "microdrop.execute(trigger_something)"
   ]
  },
  {
   "cell_type": "code",
   "execution_count": 3,
   "metadata": {},
   "outputs": [
    {
     "name": "stdout",
     "output_type": "stream",
     "text": [
      "received notification\n",
      "['microdrop/put/routes-model/routes', 'microdrop/put/routes-model/route', 'microdrop/trigger/routes-model/execute', 'microdrop/web-server/signal/running-state-requested', 'microdrop/trigger/routes-model/get-subscriptions']\n"
     ]
    }
   ],
   "source": [
    "async def get_route_subs(microdrop):\n",
    "    result = await microdrop.get_subscriptions('routes-model')\n",
    "    print(result)\n",
    "microdrop.execute(get_route_subs)"
   ]
  },
  {
   "cell_type": "code",
   "execution_count": null,
   "metadata": {},
   "outputs": [],
   "source": []
  }
 ],
 "metadata": {
  "kernelspec": {
   "display_name": "Python 3",
   "language": "python",
   "name": "python3"
  },
  "language_info": {
   "codemirror_mode": {
    "name": "ipython",
    "version": 3
   },
   "file_extension": ".py",
   "mimetype": "text/x-python",
   "name": "python",
   "nbconvert_exporter": "python",
   "pygments_lexer": "ipython3",
   "version": "3.6.3"
  }
 },
 "nbformat": 4,
 "nbformat_minor": 2
}
