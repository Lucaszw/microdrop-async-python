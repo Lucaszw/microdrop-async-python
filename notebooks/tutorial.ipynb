{
 "cells": [
  {
   "cell_type": "code",
   "execution_count": 1,
   "metadata": {},
   "outputs": [],
   "source": [
    "from microdrop_client import Microdrop"
   ]
  },
  {
   "cell_type": "code",
   "execution_count": 2,
   "metadata": {},
   "outputs": [],
   "source": [
    "microdrop = Microdrop()\n",
    "wait_for = microdrop.loop.run_until_complete"
   ]
  },
  {
   "cell_type": "code",
   "execution_count": 7,
   "metadata": {},
   "outputs": [
    {
     "data": {
      "text/plain": [
       "['microdrop/put/electrodes-model/active-electrodes',\n",
       " 'microdrop/trigger/electrodes-model/toggle-electrode',\n",
       " 'microdrop/web-server/signal/running-state-requested',\n",
       " 'microdrop/trigger/electrodes-model/get-subscriptions']"
      ]
     },
     "execution_count": 7,
     "metadata": {},
     "output_type": "execute_result"
    }
   ],
   "source": [
    "wait_for(microdrop.get_subscriptions('electrodes-model'))"
   ]
  },
  {
   "cell_type": "code",
   "execution_count": 4,
   "metadata": {},
   "outputs": [],
   "source": [
    "electrodes = ['electrode053', 'electrode087','electrode052','electrode049','electrode051','electrode084','electrode048','electrode004','electrode005']\n",
    "\n",
    "async def toggle_electrode(microdrop, id):\n",
    "    plugin = 'electrodes-model'\n",
    "    action = 'toggle-electrode'\n",
    "    await microdrop.trigger_plugin(plugin, action, {'electrodeId': id, 'state': True} )\n",
    "\n",
    "for electrode in electrodes:\n",
    "    microdrop.execute(toggle_electrode, electrode)"
   ]
  },
  {
   "cell_type": "code",
   "execution_count": 6,
   "metadata": {},
   "outputs": [
    {
     "data": {
      "text/plain": [
       "{'__head__': {'plugin_name': 'electrodes-model', 'plugin_version': '0.0'},\n",
       " 'response': [],\n",
       " 'status': 'success'}"
      ]
     },
     "execution_count": 6,
     "metadata": {},
     "output_type": "execute_result"
    }
   ],
   "source": [
    "wait_for(microdrop.put_plugin('electrodes-model', 'active-electrodes', []))"
   ]
  },
  {
   "cell_type": "code",
   "execution_count": 8,
   "metadata": {},
   "outputs": [
    {
     "data": {
      "text/plain": [
       "['microdrop/put/routes-model/routes',\n",
       " 'microdrop/put/routes-model/route',\n",
       " 'microdrop/trigger/routes-model/execute',\n",
       " 'microdrop/web-server/signal/running-state-requested',\n",
       " 'microdrop/trigger/routes-model/get-subscriptions']"
      ]
     },
     "execution_count": 8,
     "metadata": {},
     "output_type": "execute_result"
    }
   ],
   "source": [
    "wait_for(microdrop.get_subscriptions('routes-model'))"
   ]
  },
  {
   "cell_type": "code",
   "execution_count": 17,
   "metadata": {},
   "outputs": [],
   "source": [
    "path = ['down', 'down', 'right', 'right', 'up', 'up']\n",
    "start = 'electrode065'\n",
    "r = {'start': start, 'path': path }\n",
    "wait_for(microdrop.put_plugin('routes-model', 'route', r))"
   ]
  },
  {
   "cell_type": "code",
   "execution_count": 24,
   "metadata": {},
   "outputs": [
    {
     "data": {
      "text/plain": [
       "{'__head__': {'plugin_name': 'routes-model', 'plugin_version': '0.0'},\n",
       " 'response': {'status': 'running'},\n",
       " 'status': 'success'}"
      ]
     },
     "execution_count": 24,
     "metadata": {},
     "output_type": "execute_result"
    }
   ],
   "source": [
    "routes = wait_for(microdrop.get_state('routes-model', 'routes'))\n",
    "wait_for(microdrop.trigger_plugin('routes-model', 'execute', {'routes': routes}))"
   ]
  },
  {
   "cell_type": "code",
   "execution_count": null,
   "metadata": {},
   "outputs": [],
   "source": []
  }
 ],
 "metadata": {
  "kernelspec": {
   "display_name": "Python 3",
   "language": "python",
   "name": "python3"
  },
  "language_info": {
   "codemirror_mode": {
    "name": "ipython",
    "version": 3
   },
   "file_extension": ".py",
   "mimetype": "text/x-python",
   "name": "python",
   "nbconvert_exporter": "python",
   "pygments_lexer": "ipython3",
   "version": "3.6.3"
  }
 },
 "nbformat": 4,
 "nbformat_minor": 2
}
